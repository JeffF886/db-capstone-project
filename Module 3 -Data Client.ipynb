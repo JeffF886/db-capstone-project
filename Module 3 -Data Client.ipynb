{
 "cells": [
  {
   "cell_type": "code",
   "execution_count": 6,
   "id": "4fef81f8-3eb2-4afc-9a27-1ccf78507bae",
   "metadata": {},
   "outputs": [
    {
     "name": "stdout",
     "output_type": "stream",
     "text": [
      "Python 3.10.15\n"
     ]
    }
   ],
   "source": [
    "# Task 1: Your first task is to navigate to your terminal and ensure that Python is installed and available on the command path. \n",
    "#To complete this task, type the following syntax:\n",
    "\n",
    "!python --version"
   ]
  },
  {
   "cell_type": "code",
   "execution_count": null,
   "id": "3b57c26e-390c-4d44-90b1-b55cb6fa3b84",
   "metadata": {},
   "outputs": [],
   "source": [
    "# Task 2: Having established that an up-to date version of python is installed on your machine you will need to install Jupyter. \n",
    "#You can install Jupyter using the following code: \n",
    "\n",
    "#!python -m pip install jupyter\n",
    "# !jupyter notebook  -- already installed\n"
   ]
  },
  {
   "cell_type": "code",
   "execution_count": 17,
   "id": "cf2600f4-8aa0-42fd-8a3c-49bc8264e242",
   "metadata": {},
   "outputs": [
    {
     "name": "stdout",
     "output_type": "stream",
     "text": [
      "Requirement already satisfied: mysql-connector-python in c:\\users\\jefffrazier\\anaconda\\lib\\site-packages (9.1.0)\n",
      "('bookings',)\n",
      "('customers',)\n",
      "('menuitems',)\n",
      "('menus',)\n",
      "('orderdeliverystatus',)\n",
      "('orders',)\n",
      "('ordersview',)\n",
      "('staff',)\n"
     ]
    }
   ],
   "source": [
    "#Task 3\n",
    "#Your third and final task is to establish a connection between Python and your database using the following steps:\n",
    "\n",
    "!pip install mysql-connector-python\n",
    "import mysql.connector as connector\n",
    "\n",
    "connection = connector.connect(user=\"root2\", password=\"yXo_ztj9389HWZr\", host=\"localhost\")\n",
    "cursor = connection.cursor()\n",
    "cursor.execute(\"USE littlelemondb\")\n",
    "cursor.execute(\"SHOW TABLES\")\n",
    "results = cursor.fetchall()\n",
    "for result in results:\n",
    "    print(result)"
   ]
  },
  {
   "cell_type": "code",
   "execution_count": 18,
   "id": "8f78b97d-51a1-4593-ae16-de2de34700f5",
   "metadata": {},
   "outputs": [
    {
     "name": "stdout",
     "output_type": "stream",
     "text": [
      "Requirement already satisfied: mysql-connector-python in c:\\users\\jefffrazier\\anaconda\\lib\\site-packages (9.1.0)\n"
     ]
    }
   ],
   "source": [
    "!pip install mysql-connector-python\n",
    "import mysql.connector as connector\n",
    "\n",
    "connection = connector.connect(user=\"root2\", password=\"yXo_ztj9389HWZr\", host=\"localhost\")\n"
   ]
  },
  {
   "cell_type": "code",
   "execution_count": 21,
   "id": "08acc668-5233-4581-ad8c-7594ac3688c9",
   "metadata": {},
   "outputs": [
    {
     "name": "stdout",
     "output_type": "stream",
     "text": [
      "('bookings',)\n",
      "('customers',)\n",
      "('menuitems',)\n",
      "('menus',)\n",
      "('orderdeliverystatus',)\n",
      "('orders',)\n",
      "('ordersview',)\n",
      "('staff',)\n"
     ]
    }
   ],
   "source": [
    "# Exercise: Add query functions\n",
    "\n",
    "# Task 1: Completed above in item code block 3\n",
    "\n",
    "#Task 2: In this second task, you now need to query the database to show all tables within the database. \n",
    "cursor = connection.cursor()\n",
    "cursor.execute(\"USE littlelemondb\")\n",
    "cursor.execute(\"SHOW TABLES\")\n",
    "results = cursor.fetchall()\n",
    "for result in results:\n",
    "    print(result)"
   ]
  },
  {
   "cell_type": "code",
   "execution_count": 25,
   "id": "35be116c-b3c9-42ec-9121-2748d48ea827",
   "metadata": {},
   "outputs": [
    {
     "name": "stdout",
     "output_type": "stream",
     "text": [
      "('Diana Evans', 'diana.evans@example.com', '678-901-2345', Decimal('49.95'))\n",
      "('Liam Parker', 'liam.p@example.com', '456-789-0124', Decimal('49.95'))\n",
      "('Mia Quinn', 'mia.q@example.com', '567-890-1235', Decimal('39.96'))\n",
      "('Quinn Underwood', 'quinn.u@example.com', '901-234-5679', Decimal('39.96'))\n",
      "('Rachel Vance', 'rachel.v@example.com', '012-345-6790', Decimal('49.95'))\n"
     ]
    }
   ],
   "source": [
    "# Task 3: Query with table JOIN\n",
    "\n",
    "#Note: my table didn't have any orders over $60, so I used $30\n",
    "\n",
    "stmt = \"\"\"\n",
    "SELECT Customers.FullName, Customers.Email, Customers.ContactNumber, Orders.TotalCost\n",
    "\n",
    "FROM Customers\n",
    "INNER JOIN Bookings ON Bookings.CustomerID = Customers.CustomerID\n",
    "INNER JOIN Orders ON Orders.BookingID = Bookings.BookingID\n",
    "WHERE Orders.TotalCost > 30\n",
    "\n",
    "\"\"\"\n",
    "cursor.execute(stmt)\n",
    "results = cursor.fetchall()\n",
    "for result in results:\n",
    "    print(result)"
   ]
  },
  {
   "cell_type": "code",
   "execution_count": null,
   "id": "d5d95ff9-694f-42ba-8b9d-410def2e7adc",
   "metadata": {},
   "outputs": [],
   "source": []
  }
 ],
 "metadata": {
  "kernelspec": {
   "display_name": "Python 3 (ipykernel)",
   "language": "python",
   "name": "python3"
  },
  "language_info": {
   "codemirror_mode": {
    "name": "ipython",
    "version": 3
   },
   "file_extension": ".py",
   "mimetype": "text/x-python",
   "name": "python",
   "nbconvert_exporter": "python",
   "pygments_lexer": "ipython3",
   "version": "3.10.15"
  }
 },
 "nbformat": 4,
 "nbformat_minor": 5
}
