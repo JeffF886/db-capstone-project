{
 "cells": [
  {
   "cell_type": "code",
   "execution_count": 60,
   "id": "ef5d9583-30c6-4e0e-888e-ea2757841815",
   "metadata": {},
   "outputs": [
    {
     "name": "stdout",
     "output_type": "stream",
     "text": [
      "Requirement already satisfied: mysql-connector-python in c:\\users\\jefffrazier\\anaconda\\lib\\site-packages (9.1.0)\n",
      "('information_schema',)\n",
      "('little_lemon_db',)\n",
      "('littlelemondb',)\n",
      "('mg_schema',)\n",
      "('mydb',)\n",
      "('mysql',)\n",
      "('performance_schema',)\n",
      "('sakila',)\n",
      "('sys',)\n",
      "('world',)\n"
     ]
    }
   ],
   "source": [
    "!pip install mysql-connector-python\n",
    "import mysql.connector as connector\n",
    "\n",
    "connection = connector.connect(user=\"root2\", password=\"yXo_ztj9389HWZr\", host=\"localhost\")\n",
    "cursor = connection.cursor()\n",
    "#wshow databases to check connection\n",
    "cursor.execute(\"SHOW DATABASES\")\n",
    "results = cursor.fetchall()\n",
    "for result in results:\n",
    "    print(result)"
   ]
  },
  {
   "cell_type": "code",
   "execution_count": 62,
   "id": "b6b8bad0-bd15-4962-8a27-cbab31dd1061",
   "metadata": {},
   "outputs": [],
   "source": [
    "#cursor.execute(\"DROP DATABASE littlelemondb\")"
   ]
  },
  {
   "cell_type": "code",
   "execution_count": 64,
   "id": "2f05f2c1-b7b6-4983-b3ee-1d6bc74beddf",
   "metadata": {},
   "outputs": [
    {
     "name": "stdout",
     "output_type": "stream",
     "text": [
      "('bookings',)\n",
      "('customers',)\n",
      "('menuitems',)\n",
      "('menus',)\n",
      "('orderdeliverystatus',)\n",
      "('orders',)\n",
      "('ordersview',)\n",
      "('staff',)\n"
     ]
    }
   ],
   "source": [
    "cursor.execute(\"USE littlelemondb\")\n",
    "cursor.execute(\"SHOW Tables\")\n",
    "results = cursor.fetchall()\n",
    "for result in results:\n",
    "    print(result)"
   ]
  },
  {
   "cell_type": "code",
   "execution_count": 66,
   "id": "7e24d1d6-14b4-4fc1-b552-e2eba550fdf4",
   "metadata": {},
   "outputs": [],
   "source": [
    "cursor.execute(\"DESCRIBE customers;\")"
   ]
  },
  {
   "cell_type": "code",
   "execution_count": 68,
   "id": "a0e38e93-1abd-424a-a71f-d7ccc1be6b8e",
   "metadata": {},
   "outputs": [
    {
     "name": "stdout",
     "output_type": "stream",
     "text": [
      "('CustomerID', 'int', 'NO', 'PRI', None, '')\n",
      "('FullName', 'varchar(255)', 'NO', '', None, '')\n",
      "('Email', 'varchar(255)', 'NO', '', None, '')\n",
      "('ContactNumber', 'varchar(45)', 'NO', '', None, '')\n"
     ]
    }
   ],
   "source": [
    "\n",
    "results = cursor.fetchall()\n",
    "for result in results:\n",
    "    print(result)"
   ]
  },
  {
   "cell_type": "code",
   "execution_count": 70,
   "id": "59352bd0-fa00-4619-bb7d-53cd7adb9706",
   "metadata": {},
   "outputs": [
    {
     "name": "stdout",
     "output_type": "stream",
     "text": [
      "(6, 5, Decimal('49.95'), 6, 6)\n",
      "(9, 2, Decimal('19.98'), 9, 9)\n",
      "(14, 5, Decimal('49.95'), 14, 14)\n",
      "(15, 4, Decimal('39.96'), 15, 15)\n",
      "(16, 1, Decimal('9.99'), 16, 16)\n",
      "(17, 3, Decimal('29.97'), 17, 17)\n",
      "(18, 2, Decimal('19.98'), 18, 18)\n",
      "(19, 4, Decimal('39.96'), 19, 19)\n",
      "(20, 5, Decimal('49.95'), 20, 20)\n"
     ]
    }
   ],
   "source": [
    "#*******************************************************#\n",
    "# Insert query to populate \"Orders\" table:\n",
    "#*******************************************************#\n",
    "insert_stmt=\"\"\"\n",
    "INSERT INTO `LittleLemonDB`.`Orders` (`OrderID`, `Quantity`, `TotalCost`, `MenuID`, `BookingID`) VALUES\n",
    "(1, 2, 19.98, 1, 1),\n",
    "(2, 1, 9.99, 2, 2),\n",
    "(3, 3, 29.97, 3, 3),\n",
    "(4, 4, 39.96, 4, 4),\n",
    "(5, 2, 19.98, 5, 5),\n",
    "(6, 5, 49.95, 6, 6),\n",
    "(7, 1, 9.99, 7, 7),\n",
    "(8, 3, 29.97, 8, 8),\n",
    "(9, 2, 19.98, 9, 9),\n",
    "(10, 4, 39.96, 10, 10),\n",
    "(11, 1, 9.99, 11, 11),\n",
    "(12, 3, 29.97, 12, 12),\n",
    "(13, 2, 19.98, 13, 13),\n",
    "(14, 5, 49.95, 14, 14),\n",
    "(15, 4, 39.96, 15, 15),\n",
    "(16, 1, 9.99, 16, 16),\n",
    "(17, 3, 29.97, 17, 17),\n",
    "(18, 2, 19.98, 18, 18),\n",
    "(19, 4, 39.96, 19, 19),\n",
    "(20, 5, 49.95, 20, 20);\n",
    "\"\"\"\n",
    "\n",
    "cursor.execute(insert_stmt)\n",
    "connection.commit()\n",
    "cursor.execute(\"SELECT * FROM Orders\")\n",
    "results = cursor.fetchall()\n",
    "for result in results:\n",
    "    print(result)"
   ]
  },
  {
   "cell_type": "code",
   "execution_count": 13,
   "id": "1b67753e-cf2d-4820-b700-6e11d25fb8c8",
   "metadata": {},
   "outputs": [],
   "source": [
    "# Insert data from ChatGTP\n",
    "# Used the following prompt: \"To create SQL insert statements with test data for each table in the provided schema, I'll generate sample data for the Customers, Staff, Bookings, and OrderDeliveryStatus tables. Here are the insert statements with 20 rows of test data for each table:\"\n",
    "\n",
    "#*******************************************************#\n",
    "# Insert query to populate \"Customers\" table:\n",
    "#*******************************************************#\n",
    "insert_customers=\"\"\"\n",
    "INSERT INTO `littlelemondb`.`customers` (`CustomerID`, `FullName`, `Email`, `ContactNumber`) VALUES\n",
    "(1, 'John Doe', 'john.doe@example.com', '123-456-7890'),\n",
    "(2, 'Jane Smith', 'jane.smith@example.com', '234-567-8901'),\n",
    "(3, 'Alice Johnson', 'alice.j@example.com', '345-678-9012'),\n",
    "(4, 'Bob Brown', 'bob.brown@example.com', '456-789-0123'),\n",
    "(5, 'Charlie Davis', 'charlie.d@example.com', '567-890-1234'),\n",
    "(6, 'Diana Evans', 'diana.evans@example.com', '678-901-2345'),\n",
    "(7, 'Evan Green', 'evan.green@example.com', '789-012-3456'),\n",
    "(8, 'Fiona Harris', 'fiona.h@example.com', '890-123-4567'),\n",
    "(9, 'George King', 'george.k@example.com', '901-234-5678'),\n",
    "(10, 'Hannah Lee', 'hannah.lee@example.com', '012-345-6789'),\n",
    "(11, 'Ian Miller', 'ian.m@example.com', '123-456-7891'),\n",
    "(12, 'Jack Nelson', 'jack.nelson@example.com', '234-567-8902'),\n",
    "(13, 'Karen Owens', 'karen.o@example.com', '345-678-9013'),\n",
    "(14, 'Liam Parker', 'liam.p@example.com', '456-789-0124'),\n",
    "(15, 'Mia Quinn', 'mia.q@example.com', '567-890-1235'),\n",
    "(16, 'Noah Roberts', 'noah.r@example.com', '678-901-2346'),\n",
    "(17, 'Olivia Scott', 'olivia.s@example.com', '789-012-3457'),\n",
    "(18, 'Paul Turner', 'paul.t@example.com', '890-123-4568'),\n",
    "(19, 'Quinn Underwood', 'quinn.u@example.com', '901-234-5679'),\n",
    "(20, 'Rachel Vance', 'rachel.v@example.com', '012-345-6790');\n",
    "\"\"\""
   ]
  },
  {
   "cell_type": "code",
   "execution_count": 15,
   "id": "e61b9045-7352-487e-932e-0018719984e9",
   "metadata": {},
   "outputs": [],
   "source": [
    "#cursor.execute(\"DELETE FROM Customers;\")"
   ]
  },
  {
   "cell_type": "code",
   "execution_count": 17,
   "id": "82525a55-15ec-4e56-8f5e-4cdee35e334f",
   "metadata": {},
   "outputs": [
    {
     "name": "stdout",
     "output_type": "stream",
     "text": [
      "(1, 'John Doe', 'john.doe@example.com', '123-456-7890')\n",
      "(2, 'Jane Smith', 'jane.smith@example.com', '234-567-8901')\n",
      "(3, 'Alice Johnson', 'alice.j@example.com', '345-678-9012')\n",
      "(4, 'Bob Brown', 'bob.brown@example.com', '456-789-0123')\n",
      "(5, 'Charlie Davis', 'charlie.d@example.com', '567-890-1234')\n",
      "(6, 'Diana Evans', 'diana.evans@example.com', '678-901-2345')\n",
      "(7, 'Evan Green', 'evan.green@example.com', '789-012-3456')\n",
      "(8, 'Fiona Harris', 'fiona.h@example.com', '890-123-4567')\n",
      "(9, 'George King', 'george.k@example.com', '901-234-5678')\n",
      "(10, 'Hannah Lee', 'hannah.lee@example.com', '012-345-6789')\n",
      "(11, 'Ian Miller', 'ian.m@example.com', '123-456-7891')\n",
      "(12, 'Jack Nelson', 'jack.nelson@example.com', '234-567-8902')\n",
      "(13, 'Karen Owens', 'karen.o@example.com', '345-678-9013')\n",
      "(14, 'Liam Parker', 'liam.p@example.com', '456-789-0124')\n",
      "(15, 'Mia Quinn', 'mia.q@example.com', '567-890-1235')\n",
      "(16, 'Noah Roberts', 'noah.r@example.com', '678-901-2346')\n",
      "(17, 'Olivia Scott', 'olivia.s@example.com', '789-012-3457')\n",
      "(18, 'Paul Turner', 'paul.t@example.com', '890-123-4568')\n",
      "(19, 'Quinn Underwood', 'quinn.u@example.com', '901-234-5679')\n",
      "(20, 'Rachel Vance', 'rachel.v@example.com', '012-345-6790')\n"
     ]
    }
   ],
   "source": [
    "cursor.execute(insert_customers)\n",
    "connection.commit()\n",
    "cursor.execute(\"SELECT * FROM customers\")\n",
    "results = cursor.fetchall()\n",
    "for result in results:\n",
    "    print(result)"
   ]
  },
  {
   "cell_type": "code",
   "execution_count": 19,
   "id": "105bc4ad-474c-4c41-ac22-d227ca72b05e",
   "metadata": {},
   "outputs": [
    {
     "name": "stdout",
     "output_type": "stream",
     "text": [
      "(1, 'Sam Wilson', 'Manager', Decimal('50000.00'))\n",
      "(2, 'Tina Adams', 'Chef', Decimal('40000.00'))\n",
      "(3, 'Victor Blake', 'Waiter', Decimal('30000.00'))\n",
      "(4, 'Wendy Clark', 'Waitress', Decimal('30000.00'))\n",
      "(5, 'Xander Diaz', 'Bartender', Decimal('35000.00'))\n",
      "(6, 'Yara Edwards', 'Host', Decimal('32000.00'))\n",
      "(7, 'Zane Foster', 'Dishwasher', Decimal('28000.00'))\n",
      "(8, 'Amy Grant', 'Sous Chef', Decimal('38000.00'))\n",
      "(9, 'Ben Hall', 'Cook', Decimal('34000.00'))\n",
      "(10, 'Cara Ingram', 'Server', Decimal('31000.00'))\n",
      "(11, 'Dan Jacobs', 'Busser', Decimal('29000.00'))\n",
      "(12, 'Ella Knight', 'Cashier', Decimal('30000.00'))\n",
      "(13, 'Finn Lewis', 'Barista', Decimal('32000.00'))\n",
      "(14, 'Gina Moore', 'Receptionist', Decimal('33000.00'))\n",
      "(15, 'Hugo Nash', 'Cleaner', Decimal('27000.00'))\n",
      "(16, 'Ivy Owens', 'Assistant Manager', Decimal('45000.00'))\n",
      "(17, 'Jake Perry', 'Security', Decimal('36000.00'))\n",
      "(18, 'Kara Quinn', 'Hostess', Decimal('32000.00'))\n",
      "(19, 'Leo Reed', 'Delivery', Decimal('30000.00'))\n",
      "(20, 'Mona Stone', 'Pastry Chef', Decimal('37000.00'))\n"
     ]
    }
   ],
   "source": [
    "\n",
    "#*******************************************************#\n",
    "# Insert query to populate \"Staff\" table:\n",
    "#*******************************************************#\n",
    "insert_stmt=\"\"\"\n",
    "INSERT INTO `littlelemondb`.`staff` (`StaffID`, `StaffName`, `Role`, `Salary`) VALUES\n",
    "(1, 'Sam Wilson', 'Manager', '50000'),\n",
    "(2, 'Tina Adams', 'Chef', '40000'),\n",
    "(3, 'Victor Blake', 'Waiter', '30000'),\n",
    "(4, 'Wendy Clark', 'Waitress', '30000'),\n",
    "(5, 'Xander Diaz', 'Bartender', '35000'),\n",
    "(6, 'Yara Edwards', 'Host', '32000'),\n",
    "(7, 'Zane Foster', 'Dishwasher', '28000'),\n",
    "(8, 'Amy Grant', 'Sous Chef', '38000'),\n",
    "(9, 'Ben Hall', 'Cook', '34000'),\n",
    "(10, 'Cara Ingram', 'Server', '31000'),\n",
    "(11, 'Dan Jacobs', 'Busser', '29000'),\n",
    "(12, 'Ella Knight', 'Cashier', '30000'),\n",
    "(13, 'Finn Lewis', 'Barista', '32000'),\n",
    "(14, 'Gina Moore', 'Receptionist', '33000'),\n",
    "(15, 'Hugo Nash', 'Cleaner', '27000'),\n",
    "(16, 'Ivy Owens', 'Assistant Manager', '45000'),\n",
    "(17, 'Jake Perry', 'Security', '36000'),\n",
    "(18, 'Kara Quinn', 'Hostess', '32000'),\n",
    "(19, 'Leo Reed', 'Delivery', '30000'),\n",
    "(20, 'Mona Stone', 'Pastry Chef', '37000');\n",
    "\"\"\"\n",
    "cursor.execute(insert_stmt)\n",
    "connection.commit()\n",
    "cursor.execute(\"SELECT * FROM Staff\")\n",
    "results = cursor.fetchall()\n",
    "for result in results:\n",
    "    print(result)\n",
    "\n"
   ]
  },
  {
   "cell_type": "code",
   "execution_count": 21,
   "id": "a5bddbd8-bddd-4f6f-a564-80b302ce02d3",
   "metadata": {},
   "outputs": [
    {
     "name": "stdout",
     "output_type": "stream",
     "text": [
      "(1, 'Delivered', datetime.date(2023, 10, 1), 1)\n",
      "(2, 'Pending', datetime.date(2023, 10, 2), 2)\n",
      "(3, 'In Transit', datetime.date(2023, 10, 3), 3)\n",
      "(4, 'Delivered', datetime.date(2023, 10, 4), 4)\n",
      "(5, 'Cancelled', datetime.date(2023, 10, 5), 5)\n",
      "(6, 'Pending', datetime.date(2023, 10, 6), 6)\n",
      "(7, 'In Transit', datetime.date(2023, 10, 7), 7)\n",
      "(8, 'Delivered', datetime.date(2023, 10, 8), 8)\n",
      "(9, 'Pending', datetime.date(2023, 10, 9), 9)\n",
      "(10, 'In Transit', datetime.date(2023, 10, 10), 10)\n",
      "(11, 'Delivered', datetime.date(2023, 10, 11), 11)\n",
      "(12, 'Cancelled', datetime.date(2023, 10, 12), 12)\n",
      "(13, 'Pending', datetime.date(2023, 10, 13), 13)\n",
      "(14, 'In Transit', datetime.date(2023, 10, 14), 14)\n",
      "(15, 'Delivered', datetime.date(2023, 10, 15), 15)\n",
      "(16, 'Pending', datetime.date(2023, 10, 16), 16)\n",
      "(17, 'In Transit', datetime.date(2023, 10, 17), 17)\n",
      "(18, 'Delivered', datetime.date(2023, 10, 18), 18)\n",
      "(19, 'Cancelled', datetime.date(2023, 10, 19), 19)\n",
      "(20, 'Pending', datetime.date(2023, 10, 20), 20)\n"
     ]
    }
   ],
   "source": [
    "#*******************************************************#\n",
    "# Insert query to populate \"Order Delivery Status\" table:\n",
    "#*******************************************************#\n",
    "insert_stmt=\"\"\"\n",
    "INSERT INTO `littlelemondb`.`orderdeliverystatus` (`OrderDeliveryStatusID`, `DeliveryStatus`, `DeliveryDate`, `OrderID`) VALUES\n",
    "(1, 'Delivered', '2023-10-01', 1),\n",
    "(2, 'Pending', '2023-10-02', 2),\n",
    "(3, 'In Transit', '2023-10-03', 3),\n",
    "(4, 'Delivered', '2023-10-04', 4),\n",
    "(5, 'Cancelled', '2023-10-05', 5),\n",
    "(6, 'Pending', '2023-10-06', 6),\n",
    "(7, 'In Transit', '2023-10-07', 7),\n",
    "(8, 'Delivered', '2023-10-08', 8),\n",
    "(9, 'Pending', '2023-10-09', 9),\n",
    "(10, 'In Transit', '2023-10-10', 10),\n",
    "(11, 'Delivered', '2023-10-11', 11),\n",
    "(12, 'Cancelled', '2023-10-12', 12),\n",
    "(13, 'Pending', '2023-10-13', 13),\n",
    "(14, 'In Transit', '2023-10-14', 14),\n",
    "(15, 'Delivered', '2023-10-15', 15),\n",
    "(16, 'Pending', '2023-10-16', 16),\n",
    "(17, 'In Transit', '2023-10-17', 17),\n",
    "(18, 'Delivered', '2023-10-18', 18),\n",
    "(19, 'Cancelled', '2023-10-19', 19),\n",
    "(20, 'Pending', '2023-10-20', 20);\n",
    "\"\"\"\n",
    "\n",
    "cursor.execute(insert_stmt)\n",
    "connection.commit()\n",
    "cursor.execute(\"SELECT * FROM orderdeliverystatus\")\n",
    "results = cursor.fetchall()\n",
    "for result in results:\n",
    "    print(result)"
   ]
  },
  {
   "cell_type": "code",
   "execution_count": 23,
   "id": "474b9072-9b1a-44ba-8ed5-56f608ffed16",
   "metadata": {},
   "outputs": [
    {
     "name": "stdout",
     "output_type": "stream",
     "text": [
      "(1, 'Italian', 1)\n",
      "(2, 'Mexican', 2)\n",
      "(3, 'Chinese', 3)\n",
      "(4, 'Indian', 4)\n",
      "(5, 'French', 5)\n",
      "(6, 'Japanese', 6)\n",
      "(7, 'Thai', 7)\n",
      "(8, 'Greek', 8)\n",
      "(9, 'Spanish', 9)\n",
      "(10, 'American', 10)\n",
      "(11, 'Italian', 11)\n",
      "(12, 'Mexican', 12)\n",
      "(13, 'Chinese', 13)\n",
      "(14, 'Indian', 14)\n",
      "(15, 'French', 15)\n",
      "(16, 'Japanese', 16)\n",
      "(17, 'Thai', 17)\n",
      "(18, 'Greek', 18)\n",
      "(19, 'Spanish', 19)\n",
      "(20, 'American', 20)\n"
     ]
    }
   ],
   "source": [
    "#*******************************************************#\n",
    "# Insert query to populate \"Menus\" table:\n",
    "#*******************************************************#\n",
    "insert_stmt=\"\"\"\n",
    "INSERT INTO `littlelemondb`.`menus` (`MenuID`, `Cuisine`, `OrderID`) VALUES\n",
    "(1, 'Italian', 1),\n",
    "(2, 'Mexican', 2),\n",
    "(3, 'Chinese', 3),\n",
    "(4, 'Indian', 4),\n",
    "(5, 'French', 5),\n",
    "(6, 'Japanese', 6),\n",
    "(7, 'Thai', 7),\n",
    "(8, 'Greek', 8),\n",
    "(9, 'Spanish', 9),\n",
    "(10, 'American', 10),\n",
    "(11, 'Italian', 11),\n",
    "(12, 'Mexican', 12),\n",
    "(13, 'Chinese', 13),\n",
    "(14, 'Indian', 14),\n",
    "(15, 'French', 15),\n",
    "(16, 'Japanese', 16),\n",
    "(17, 'Thai', 17),\n",
    "(18, 'Greek', 18),\n",
    "(19, 'Spanish', 19),\n",
    "(20, 'American', 20);\n",
    "\"\"\"\n",
    "\n",
    "cursor.execute(insert_stmt)\n",
    "connection.commit()\n",
    "cursor.execute(\"SELECT * FROM menus\")\n",
    "results = cursor.fetchall()\n",
    "for result in results:\n",
    "    print(result)"
   ]
  },
  {
   "cell_type": "code",
   "execution_count": 25,
   "id": "5057cbb2-28b1-4574-93de-a48c50dd55d5",
   "metadata": {},
   "outputs": [
    {
     "name": "stdout",
     "output_type": "stream",
     "text": [
      "('OrderDeliveryStatusID', 'int', 'NO', 'PRI', None, '')\n",
      "('DeliveryStatus', 'varchar(45)', 'NO', '', None, '')\n",
      "('DeliveryDate', 'date', 'NO', '', None, '')\n",
      "('OrderID', 'int', 'NO', 'PRI', None, '')\n"
     ]
    }
   ],
   "source": [
    "cursor.execute(\"DESCRIBE orderdeliverystatus;\")\n",
    "results = cursor.fetchall()\n",
    "for result in results:\n",
    "    print(result)"
   ]
  },
  {
   "cell_type": "code",
   "execution_count": 27,
   "id": "af8d00b9-237a-4dda-9789-7a4c557380d1",
   "metadata": {},
   "outputs": [
    {
     "name": "stdout",
     "output_type": "stream",
     "text": [
      "(1, 'Margherita Pizza', 'Main Course', Decimal('8.99'), 1)\n",
      "(2, 'Tacos', 'Main Course', Decimal('5.99'), 2)\n",
      "(3, 'Kung Pao Chicken', 'Main Course', Decimal('9.99'), 3)\n",
      "(4, 'Butter Chicken', 'Main Course', Decimal('10.99'), 4)\n",
      "(5, 'Croissant', 'Dessert', Decimal('2.99'), 5)\n",
      "(6, 'Sushi', 'Main Course', Decimal('12.99'), 6)\n",
      "(7, 'Pad Thai', 'Main Course', Decimal('8.99'), 7)\n",
      "(8, 'Moussaka', 'Main Course', Decimal('9.99'), 8)\n",
      "(9, 'Paella', 'Main Course', Decimal('11.99'), 9)\n",
      "(10, 'Burger', 'Main Course', Decimal('6.99'), 10)\n",
      "(11, 'Pasta Carbonara', 'Main Course', Decimal('9.49'), 11)\n",
      "(12, 'Burrito', 'Main Course', Decimal('7.99'), 12)\n",
      "(13, 'Spring Rolls', 'Appetizer', Decimal('4.99'), 13)\n",
      "(14, 'Samosa', 'Appetizer', Decimal('3.99'), 14)\n",
      "(15, 'Éclair', 'Dessert', Decimal('3.49'), 15)\n",
      "(16, 'Ramen', 'Main Course', Decimal('10.49'), 16)\n",
      "(17, 'Green Curry', 'Main Course', Decimal('9.49'), 17)\n",
      "(18, 'Gyro', 'Main Course', Decimal('7.49'), 18)\n",
      "(19, 'Churros', 'Dessert', Decimal('4.49'), 19)\n",
      "(20, 'Hot Dog', 'Main Course', Decimal('5.49'), 20)\n"
     ]
    }
   ],
   "source": [
    "#*******************************************************#\n",
    "# Insert query to populate \"Menu8Items\" table:\n",
    "#*******************************************************#\n",
    "insert_stmt=\"\"\"\n",
    "INSERT INTO `littlelemondb`.`menuitems` (`MenuItemID`, `Name`, `Type`, `Price`, `MenuID`) VALUES\n",
    "(1, 'Margherita Pizza', 'Main Course', 8.99, 1),\n",
    "(2, 'Tacos', 'Main Course', 5.99, 2),\n",
    "(3, 'Kung Pao Chicken', 'Main Course', 9.99, 3),\n",
    "(4, 'Butter Chicken', 'Main Course', 10.99, 4),\n",
    "(5, 'Croissant', 'Dessert', 2.99, 5),\n",
    "(6, 'Sushi', 'Main Course', 12.99, 6),\n",
    "(7, 'Pad Thai', 'Main Course', 8.99, 7),\n",
    "(8, 'Moussaka', 'Main Course', 9.99, 8),\n",
    "(9, 'Paella', 'Main Course', 11.99, 9),\n",
    "(10, 'Burger', 'Main Course', 6.99, 10),\n",
    "(11, 'Pasta Carbonara', 'Main Course', 9.49, 11),\n",
    "(12, 'Burrito', 'Main Course', 7.99, 12),\n",
    "(13, 'Spring Rolls', 'Appetizer', 4.99, 13),\n",
    "(14, 'Samosa', 'Appetizer', 3.99, 14),\n",
    "(15, 'Éclair', 'Dessert', 3.49, 15),\n",
    "(16, 'Ramen', 'Main Course', 10.49, 16),\n",
    "(17, 'Green Curry', 'Main Course', 9.49, 17),\n",
    "(18, 'Gyro', 'Main Course', 7.49, 18),\n",
    "(19, 'Churros', 'Dessert', 4.49, 19),\n",
    "(20, 'Hot Dog', 'Main Course', 5.49, 20);\n",
    "\"\"\"\n",
    "cursor.execute(insert_stmt)\n",
    "connection.commit()\n",
    "cursor.execute(\"SELECT * FROM MenuItems\")\n",
    "results = cursor.fetchall()\n",
    "for result in results:\n",
    "    print(result)"
   ]
  },
  {
   "cell_type": "code",
   "execution_count": 29,
   "id": "c6e4739f-ba4f-4500-82c7-d104006fef60",
   "metadata": {},
   "outputs": [
    {
     "name": "stdout",
     "output_type": "stream",
     "text": [
      "(1, datetime.date(2023, 10, 1), 1, datetime.timedelta(seconds=68400), 1, 1, 1)\n",
      "(2, datetime.date(2023, 10, 2), 2, datetime.timedelta(seconds=72000), 2, 2, 2)\n",
      "(3, datetime.date(2023, 10, 3), 3, datetime.timedelta(seconds=61200), 3, 3, 3)\n",
      "(4, datetime.date(2023, 10, 4), 4, datetime.timedelta(seconds=57600), 4, 4, 4)\n",
      "(5, datetime.date(2023, 10, 5), 5, datetime.timedelta(seconds=68400), 5, 5, 5)\n",
      "(6, datetime.date(2023, 10, 6), 6, datetime.timedelta(seconds=61200), 6, 6, 6)\n",
      "(7, datetime.date(2023, 10, 7), 7, datetime.timedelta(seconds=68400), 7, 7, 7)\n",
      "(8, datetime.date(2023, 10, 8), 8, datetime.timedelta(seconds=54000), 8, 8, 8)\n",
      "(9, datetime.date(2023, 10, 9), 9, datetime.timedelta(seconds=64800), 9, 9, 9)\n",
      "(10, datetime.date(2023, 10, 10), 10, datetime.timedelta(seconds=68400), 10, 10, 10)\n",
      "(11, datetime.date(2023, 10, 11), 11, datetime.timedelta(seconds=61200), 11, 11, 11)\n",
      "(12, datetime.date(2023, 10, 12), 12, datetime.timedelta(seconds=54000), 12, 12, 12)\n",
      "(13, datetime.date(2023, 10, 13), 13, datetime.timedelta(seconds=68400), 13, 13, 13)\n",
      "(14, datetime.date(2023, 10, 14), 14, datetime.timedelta(seconds=50400), 14, 14, 14)\n",
      "(15, datetime.date(2023, 10, 15), 15, datetime.timedelta(seconds=64800), 15, 15, 15)\n",
      "(16, datetime.date(2023, 10, 16), 16, datetime.timedelta(seconds=68400), 16, 16, 16)\n",
      "(17, datetime.date(2023, 10, 17), 17, datetime.timedelta(seconds=75600), 17, 17, 17)\n",
      "(18, datetime.date(2023, 10, 18), 18, datetime.timedelta(seconds=68400), 18, 18, 18)\n",
      "(19, datetime.date(2023, 10, 19), 19, datetime.timedelta(seconds=68400), 19, 19, 19)\n",
      "(20, datetime.date(2023, 10, 20), 20, datetime.timedelta(seconds=72000), 20, 20, 20)\n"
     ]
    }
   ],
   "source": [
    "#*******************************************************#\n",
    "# Insert query to populate \"Bookings\" table:\n",
    "#*******************************************************#\n",
    "insert_stmt=\"\"\"\n",
    "INSERT INTO `littlelemondb`.`bookings` (`BookingID`, `BookingDate`, `TableNo`, `OrderID`, `CustomerID`, `StaffID`, `BookingSlot`) VALUES\n",
    "(1, '2023-10-01', 1, 1, 1, 1, '19:00:00'),\n",
    "(2, '2023-10-02', 2, 2, 2, 2, '20:00:00'),\n",
    "(3, '2023-10-03', 3, 3, 3, 3, '17:00:00'),\n",
    "(4, '2023-10-04', 4, 4, 4, 4, '16:00:00'),\n",
    "(5, '2023-10-05', 5, 5, 5, 5, '19:00:00'),\n",
    "(6, '2023-10-06', 6, 6, 6, 6, '17:00:00'),\n",
    "(7, '2023-10-07', 7, 7, 7, 7, '19:00:00'),\n",
    "(8, '2023-10-08', 8, 8, 8, 8, '15:00:00'),\n",
    "(9, '2023-10-09', 9, 9, 9, 9, '18:00:00'),\n",
    "(10, '2023-10-10', 10, 10, 10, 10, '19:00:00'),\n",
    "(11, '2023-10-11', 11, 11, 11, 11, '17:00:00'),\n",
    "(12, '2023-10-12', 12, 12, 12, 12, '15:00:00'),\n",
    "(13, '2023-10-13', 13, 13, 13, 13, '19:00:00'),\n",
    "(14, '2023-10-14', 14, 14, 14, 14, '14:00:00'),\n",
    "(15, '2023-10-15', 15, 15, 15, 15, '18:00:00'),\n",
    "(16, '2023-10-16', 16, 16, 16, 16, '19:00:00'),\n",
    "(17, '2023-10-17', 17, 17, 17, 17, '21:00:00'),\n",
    "(18, '2023-10-18', 18, 18, 18, 18, '19:00:00'),\n",
    "(19, '2023-10-19', 19, 19, 19, 19, '19:00:00'),\n",
    "(20, '2023-10-20', 20, 20, 20, 20, '20:00:00');\n",
    "\"\"\"\n",
    "cursor.execute(insert_stmt)\n",
    "connection.commit()\n",
    "cursor.execute(\"SELECT * FROM Bookings\")\n",
    "results = cursor.fetchall()\n",
    "for result in results:\n",
    "    print(result)"
   ]
  },
  {
   "cell_type": "code",
   "execution_count": null,
   "id": "dbfda96a-6ab5-4604-9841-8a46282c82fb",
   "metadata": {},
   "outputs": [],
   "source": []
  },
  {
   "cell_type": "code",
   "execution_count": null,
   "id": "1d860c24-3e7d-4c85-aae4-a627b9c53d02",
   "metadata": {},
   "outputs": [],
   "source": []
  }
 ],
 "metadata": {
  "kernelspec": {
   "display_name": "Python 3 (ipykernel)",
   "language": "python",
   "name": "python3"
  },
  "language_info": {
   "codemirror_mode": {
    "name": "ipython",
    "version": 3
   },
   "file_extension": ".py",
   "mimetype": "text/x-python",
   "name": "python",
   "nbconvert_exporter": "python",
   "pygments_lexer": "ipython3",
   "version": "3.10.15"
  }
 },
 "nbformat": 4,
 "nbformat_minor": 5
}
