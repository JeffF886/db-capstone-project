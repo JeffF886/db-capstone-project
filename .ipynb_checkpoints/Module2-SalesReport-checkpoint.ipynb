{
 "cells": [
  {
   "cell_type": "code",
   "execution_count": 1,
   "id": "ef5d9583-30c6-4e0e-888e-ea2757841815",
   "metadata": {},
   "outputs": [
    {
     "name": "stdout",
     "output_type": "stream",
     "text": [
      "Requirement already satisfied: mysql-connector-python in c:\\users\\jefffrazier\\anaconda\\lib\\site-packages (9.1.0)\n",
      "('bookings',)\n",
      "('customers',)\n",
      "('menuitems',)\n",
      "('menus',)\n",
      "('orderdeliverystatus',)\n",
      "('orders',)\n",
      "('ordersview',)\n",
      "('staff',)\n"
     ]
    }
   ],
   "source": [
    "!pip install mysql-connector-python\n",
    "import mysql.connector as connector\n",
    "\n",
    "connection = connector.connect(user=\"root2\", password=\"yXo_ztj9389HWZr\", host=\"localhost\")\n",
    "cursor = connection.cursor()\n",
    "cursor.execute(\"USE littlelemondb\")\n",
    "cursor.execute(\"SHOW TABLES\")\n",
    "results = cursor.fetchall()\n",
    "for result in results:\n",
    "    print(result)"
   ]
  },
  {
   "cell_type": "code",
   "execution_count": 35,
   "id": "dbfda96a-6ab5-4604-9841-8a46282c82fb",
   "metadata": {},
   "outputs": [
    {
     "name": "stdout",
     "output_type": "stream",
     "text": [
      "('OrderID', 'Quantity', 'TotalCost')\n",
      "(3, 3, Decimal('29.97'))\n",
      "(4, 4, Decimal('39.96'))\n",
      "(6, 5, Decimal('49.95'))\n",
      "(8, 3, Decimal('29.97'))\n",
      "(14, 5, Decimal('49.95'))\n",
      "(15, 4, Decimal('39.96'))\n",
      "(17, 3, Decimal('29.97'))\n",
      "(19, 4, Decimal('39.96'))\n",
      "(20, 5, Decimal('49.95'))\n"
     ]
    }
   ],
   "source": [
    "# Task 1: Creating the OrdersView\n",
    "# In the first task, Little Lemon need you to create a virtual table called OrdersView that focuses on \n",
    "# OrderID, Quantity and Cost columns within the Orders table for all orders with a quantity greater than 2. \n",
    "\n",
    "viewstmt = \"\"\"\n",
    "CREATE VIEW IF NOT EXISTS OrdersView AS\n",
    "SELECT OrderID, Quantity, TotalCost\n",
    "FROM Orders\n",
    "WHERE Quantity > 2;\n",
    "\"\"\"\n",
    "\n",
    "cursor.execute(viewstmt)\n",
    "\n",
    "cursor.execute(\"SELECT * FROM OrdersView\")\n",
    "cols = cursor.column_names\n",
    "print(cols)\n",
    "results = cursor.fetchall()\n",
    "for result in results:\n",
    "    print(result)"
   ]
  },
  {
   "cell_type": "code",
   "execution_count": 176,
   "id": "1d860c24-3e7d-4c85-aae4-a627b9c53d02",
   "metadata": {},
   "outputs": [
    {
     "name": "stdout",
     "output_type": "stream",
     "text": [
      "('CustomerID', 'FullName', 'OrderID', 'Cost', 'MenuName', 'CourseName')\n",
      "(1, 'John Doe', 1, Decimal('199.80'), 'Italian', 'Margherita Pizza')\n",
      "(3, 'Alice Johnson', 3, Decimal('299.70'), 'Chinese', 'Kung Pao Chicken')\n",
      "(4, 'Bob Brown', 4, Decimal('399.60'), 'Indian', 'Butter Chicken')\n",
      "(6, 'Diana Evans', 6, Decimal('499.50'), 'Japanese', 'Sushi')\n",
      "(8, 'Fiona Harris', 8, Decimal('299.70'), 'Greek', 'Moussaka')\n",
      "(9, 'George King', 9, Decimal('199.80'), 'Spanish', 'Paella')\n",
      "(12, 'Jack Nelson', 12, Decimal('299.70'), 'Mexican', 'Burrito')\n",
      "(17, 'Olivia Scott', 17, Decimal('299.70'), 'Thai', 'Green Curry')\n",
      "(18, 'Paul Turner', 18, Decimal('199.80'), 'Greek', 'Gyro')\n",
      "(20, 'Rachel Vance', 20, Decimal('499.50'), 'American', 'Hot Dog')\n"
     ]
    }
   ],
   "source": [
    "#Task 2 For your second task, Little Lemon need information from four tables on all customers with orders that cost more than $150.\n",
    "#Note: my database doesn't have anything over $150, so I multiplied the total cost by 10 to get a result.\n",
    "\n",
    "sqlstmt = \"\"\"\n",
    "SELECT Customers.CustomerID AS CustomerID, Customers.FullName AS FullName,\n",
    "Orders.OrderID AS OrderID, Orders.TotalCost*10 AS Cost, Menus.Cuisine AS MenuName, MenuItems.Name AS CourseName\n",
    "FROM Customers\n",
    "INNER JOIN Bookings ON Bookings.CustomerID = Customers.CustomerID\n",
    "INNER JOIN Orders ON Orders.OrderID = Bookings.BookingID\n",
    "INNER JOIN Menus ON Menus.MenuID = Orders.MenuID\n",
    "INNER JOIN MenuItems ON MenuItems.MenuID = Menus.MenuID\n",
    "WHERE MenuItems.Type = 'Main Course' AND Orders.TotalCost*10 > 150;\n",
    "\n",
    "\"\"\"\n",
    "\n",
    "cursor.execute(sqlstmt)\n",
    "cols = cursor.column_names\n",
    "print(cols)\n",
    "results = cursor.fetchall()\n",
    "for result in results:\n",
    "    print(result)"
   ]
  },
  {
   "cell_type": "code",
   "execution_count": 177,
   "id": "c380b065-00b6-4010-8797-6197bf0a07d8",
   "metadata": {},
   "outputs": [
    {
     "name": "stdout",
     "output_type": "stream",
     "text": [
      "('MenuName',)\n",
      "('Chinese',)\n",
      "('Indian',)\n",
      "('Japanese',)\n",
      "('Greek',)\n",
      "('Mexican',)\n",
      "('Indian',)\n",
      "('French',)\n",
      "('Thai',)\n",
      "('Spanish',)\n",
      "('American',)\n"
     ]
    }
   ],
   "source": [
    "#Task 3 For the third and final task, Little Lemon need you to find all menu items for which more than 2 orders have been placed. You can carry out this task by creating a subquery that lists the menu names from the menus table \n",
    "# for any order quantity with more than 2.\n",
    "\n",
    "sqlstmt = \"\"\"\n",
    "SELECT Menus.Cuisine AS MenuName\n",
    "FROM Menus\n",
    "WHERE OrderID = ANY\n",
    "(SELECT OrderID\n",
    "FROM Orders\n",
    "WHERE Quantity >2)\n",
    "\n",
    "\"\"\"\n",
    "\n",
    "cursor.execute(sqlstmt)\n",
    "cols = cursor.column_names\n",
    "print(cols)\n",
    "results = cursor.fetchall()\n",
    "for result in results:\n",
    "    print(result)"
   ]
  },
  {
   "cell_type": "code",
   "execution_count": 178,
   "id": "89e7dbb0-ead0-47d7-bc55-679b7f99c7cf",
   "metadata": {},
   "outputs": [
    {
     "name": "stdout",
     "output_type": "stream",
     "text": [
      "('Max Quantity in Order',)\n",
      "(5,)\n"
     ]
    },
    {
     "data": {
      "text/plain": [
       "True"
      ]
     },
     "execution_count": 178,
     "metadata": {},
     "output_type": "execute_result"
    }
   ],
   "source": [
    "# Stored Procedures and Prepared Statements\n",
    "# Task 1: In this first task, Little Lemon need you to create a procedure that displays the maximum ordered quantity in the Orders table. GetMaxQuantity\n",
    "\n",
    "#Create stored procedure\n",
    "spstmt = \"\"\"\n",
    "CREATE PROCEDURE IF NOT EXISTS GetMaxQuantity()\n",
    "BEGIN\n",
    "SELECT Quantity AS 'Max Quantity in Order'\n",
    "FROM Orders\n",
    "ORDER BY Quantity DESC\n",
    "LIMIT 1;\n",
    "END\n",
    "\n",
    "\"\"\"\n",
    "cursor.execute(spstmt)\n",
    "\n",
    "# Call stored prodcedure\n",
    "sqlstmt = \"\"\"\n",
    "CALL GetMaxQuantity\n",
    "\n",
    "\"\"\"\n",
    "\n",
    "cursor.execute(sqlstmt)\n",
    "cols = cursor.column_names\n",
    "print(cols)\n",
    "results = cursor.fetchall()\n",
    "for result in results:\n",
    "    print(result)\n",
    "cursor.close()\n"
   ]
  },
  {
   "cell_type": "code",
   "execution_count": 179,
   "id": "c6c67175-c497-4a84-b793-099ca9bc4e22",
   "metadata": {},
   "outputs": [
    {
     "name": "stdout",
     "output_type": "stream",
     "text": [
      "('OrderID', 'Quantity', 'Cost')\n",
      "(1, 2, Decimal('19.98'))\n"
     ]
    }
   ],
   "source": [
    "#Task 2: In the second task, Little Lemon need you to help them to create a prepared statement called GetOrderDetail. This prepared statement will help to reduce \n",
    "#the parsing time of queries. It will also help to secure the database from SQL injections.\n",
    "\n",
    "connection = connector.connect(user=\"root2\", password=\"yXo_ztj9389HWZr\", host=\"localhost\")\n",
    "cursor = connection.cursor()\n",
    "cursor.execute(\"USE littlelemondb\")\n",
    "\n",
    "#PREPARE statement_Name 'INSERT INTO table1 VALUES (?, ?, ?, ?)';\n",
    "#EXECUTE statement_name USING @variable;\n",
    "\n",
    "\n",
    "#Create the Prepared Statement\n",
    "\n",
    "query = \"\"\"\n",
    "PREPARE GetOrderDetails FROM\n",
    "'SELECT Orders.OrderID AS OrderID, Orders.Quantity AS Quantity, Orders.TotalCost AS Cost\n",
    "FROM Orders\n",
    "INNER JOIN Bookings ON Bookings.BookingID = Orders.BookingID\n",
    "INNER JOIN Customers ON Customers.CustomerID = Bookings.CustomerID\n",
    "WHERE Customers.CustomerID = ?';\n",
    "\"\"\"\n",
    "\n",
    "cursor.execute(query)\n",
    "\n",
    "#run the prepared statement with %id=1\n",
    "\n",
    "sqlstmt = \"\"\"\n",
    "EXECUTE GetOrderDetails USING @id;\n",
    "\"\"\"\n",
    "\n",
    "\n",
    "cursor.execute(\"SET @id = 1\")\n",
    "cursor.execute(sqlstmt)\n",
    "cols = cursor.column_names\n",
    "print(cols)\n",
    "results = cursor.fetchall()\n",
    "for result in results:\n",
    "    print(result)\n",
    "\n"
   ]
  },
  {
   "cell_type": "code",
   "execution_count": 3,
   "id": "63e66934-c8db-4576-a83a-30eecc601226",
   "metadata": {},
   "outputs": [
    {
     "name": "stdout",
     "output_type": "stream",
     "text": [
      "Confirmation\n",
      "Order 16 is canceled.\n"
     ]
    }
   ],
   "source": [
    "#Task 3 Your third and final task is to create a stored procedure called CancelOrder. Little Lemon want to use this stored procedure to\n",
    "#delete an order record based on the user input of the order id.\n",
    "\n",
    "\n",
    "connection = connector.connect(user=\"root2\", password=\"yXo_ztj9389HWZr\", host=\"localhost\")\n",
    "cursor = connection.cursor()\n",
    "cursor.execute(\"USE littlelemondb\")\n",
    "\n",
    "#cursor.execute(\"DROP PROCEDURE CancelOrder;\")\n",
    "\n",
    "#Create stored procedure\n",
    "spstmt = \"\"\"\n",
    "CREATE PROCEDURE IF NOT EXISTS CancelOrder(IN myorderid INT)\n",
    "BEGIN\n",
    "\n",
    "DELETE FROM Orders WHERE OrderID = myorderid ;\n",
    "SELECT CONCAT('Order ', myorderid, ' is canceled.')  AS message;\n",
    "\n",
    "END\n",
    "\"\"\"\n",
    "\n",
    "cursor.execute(spstmt)\n",
    "\n",
    "# caling the procedure\n",
    "cursor.callproc('CancelOrder', (16,) )\n",
    "\n",
    "# Print the output value\n",
    "for result in cursor.stored_results():\n",
    "    print(\"Confirmation\")\n",
    "    print(result.fetchall()[0][0])\n",
    "\n",
    "\n",
    "\n",
    "\n"
   ]
  },
  {
   "cell_type": "code",
   "execution_count": null,
   "id": "bdd222a8-5d0d-4710-9b30-4fa57415c046",
   "metadata": {},
   "outputs": [],
   "source": []
  },
  {
   "cell_type": "code",
   "execution_count": null,
   "id": "2398d479-6000-440c-b361-26c35ee73e5b",
   "metadata": {},
   "outputs": [],
   "source": []
  },
  {
   "cell_type": "code",
   "execution_count": null,
   "id": "7dca8870-1b62-4414-8b7b-302b2a99f57e",
   "metadata": {},
   "outputs": [],
   "source": []
  }
 ],
 "metadata": {
  "kernelspec": {
   "display_name": "Python 3 (ipykernel)",
   "language": "python",
   "name": "python3"
  },
  "language_info": {
   "codemirror_mode": {
    "name": "ipython",
    "version": 3
   },
   "file_extension": ".py",
   "mimetype": "text/x-python",
   "name": "python",
   "nbconvert_exporter": "python",
   "pygments_lexer": "ipython3",
   "version": "3.10.15"
  }
 },
 "nbformat": 4,
 "nbformat_minor": 5
}
