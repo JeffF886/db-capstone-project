{
 "cells": [
  {
   "cell_type": "code",
   "execution_count": 83,
   "id": "2bd21f9a-a750-49ac-b6c1-f39dd5c7cd4f",
   "metadata": {},
   "outputs": [
    {
     "name": "stdout",
     "output_type": "stream",
     "text": [
      "Requirement already satisfied: mysql-connector-python in c:\\users\\jefffrazier\\anaconda\\lib\\site-packages (9.1.0)\n",
      "('bookings',)\n",
      "('customers',)\n",
      "('menuitems',)\n",
      "('menus',)\n",
      "('orderdeliverystatus',)\n",
      "('orders',)\n",
      "('ordersview',)\n",
      "('staff',)\n"
     ]
    }
   ],
   "source": [
    "!pip install mysql-connector-python\n",
    "import mysql.connector as connector\n",
    "\n",
    "connection = connector.connect(user=\"root2\", password=\"yXo_ztj9389HWZr\", host=\"localhost\")\n",
    "cursor = connection.cursor()\n",
    "cursor.execute(\"USE littlelemondb\")\n",
    "cursor.execute(\"SHOW TABLES\")\n",
    "results = cursor.fetchall()\n",
    "for result in results:\n",
    "    print(result)"
   ]
  },
  {
   "cell_type": "code",
   "execution_count": 19,
   "id": "ad8d8209-689d-4927-bc39-b1778805874e",
   "metadata": {},
   "outputs": [
    {
     "name": "stdout",
     "output_type": "stream",
     "text": [
      "(6, datetime.date(2023, 10, 6), 6, datetime.timedelta(seconds=61200), 6, 6, 6)\n",
      "(9, datetime.date(2023, 10, 9), 9, datetime.timedelta(seconds=64800), 9, 9, 9)\n",
      "(14, datetime.date(2023, 10, 14), 14, datetime.timedelta(seconds=50400), 14, 14, 14)\n",
      "(15, datetime.date(2023, 10, 15), 15, datetime.timedelta(seconds=64800), 15, 15, 15)\n",
      "(16, datetime.date(2023, 10, 16), 16, datetime.timedelta(seconds=68400), 16, 16, 16)\n",
      "(17, datetime.date(2023, 10, 17), 17, datetime.timedelta(seconds=75600), 17, 17, 17)\n",
      "(18, datetime.date(2023, 10, 18), 18, datetime.timedelta(seconds=68400), 18, 18, 18)\n",
      "(19, datetime.date(2023, 10, 19), 19, datetime.timedelta(seconds=68400), 19, 19, 19)\n",
      "(20, datetime.date(2023, 10, 20), 20, datetime.timedelta(seconds=72000), 20, 20, 20)\n"
     ]
    }
   ],
   "source": [
    "#Task 1: Little Lemon wants to populate the Bookings table of their database with some records of data. Your first task is to replicate \n",
    "#the list of records in the following table by adding them to the Little Lemon booking table. \n",
    "\n",
    "#First Need to delete Bookings with ID 1-4 if exists\n",
    "sqlstmt= \"\"\"\n",
    "DELETE FROM Bookings WHERE BookingID IN (1,2,3,4);\n",
    "\"\"\"\n",
    "cursor.execute(sqlstmt)\n",
    "\n",
    "# Show Bookings Table with missing Booking IDs 1-4\n",
    "sqlstmt= \"\"\"\n",
    "SELECT * FROM Bookings;\n",
    "\"\"\"\n",
    "cursor.execute(sqlstmt)\n",
    "results = cursor.fetchall()\n",
    "for result in results:\n",
    "    print(result)"
   ]
  },
  {
   "cell_type": "code",
   "execution_count": 37,
   "id": "c8c0a5dd-cd2a-49ac-b0b8-3e54eefffd2e",
   "metadata": {},
   "outputs": [
    {
     "name": "stdout",
     "output_type": "stream",
     "text": [
      "(1, datetime.date(2022, 10, 10), 5, 1)\n",
      "(2, datetime.date(2022, 11, 12), 3, 3)\n",
      "(3, datetime.date(2022, 10, 11), 2, 2)\n",
      "(4, datetime.date(2022, 10, 13), 2, 1)\n"
     ]
    }
   ],
   "source": [
    "#Removing Foreign Key to Orders table for this exercise\n",
    "# `fk_Bookings_Orders1` FOREIGN KEY (`OrderID`) REFERENCES `orders` (`OrderID`) ON DELETE CASCADE\n",
    "\n",
    "stmt = \"\"\"\n",
    "ALTER TABLE Bookings DROP FOREIGN KEY IF EXISTS fk_Bookings_Orders1;\n",
    "\n",
    "\"\"\"\n",
    "#cursor.execute(stmt)\n",
    "\n",
    "#Add Bookings to table using insert statement\n",
    "sqlstmt = \"\"\"\n",
    "INSERT INTO `littlelemondb`.`bookings` (`BookingID`, `BookingDate`, `TableNo`, `OrderID`, `CustomerID`, `StaffID`, `BookingSlot`) VALUES\n",
    "(1, '2022-10-10', 5, 1, 1, 1, '19:00:00'),\n",
    "(2, '2022-11-12', 3, 2, 3, 2, '20:00:00'),\n",
    "(3, '2022-10-11', 2, 3, 2, 3, '17:00:00'),\n",
    "(4, '2022-10-13', 2, 4, 1, 4, '16:00:00')\n",
    "\"\"\"\n",
    "cursor.execute(sqlstmt)\n",
    "\n",
    "# Show Bookings Table with  Booking IDs 1-4\n",
    "sqlstmt= \"\"\"\n",
    "SELECT BookingID, BookingDate, TableNo, CustomerID FROM Bookings WHERE BookingID IN (1,2,3,4);\n",
    "\"\"\"\n",
    "cursor.execute(sqlstmt)\n",
    "results = cursor.fetchall()\n",
    "for result in results:\n",
    "    print(result)"
   ]
  },
  {
   "cell_type": "code",
   "execution_count": 51,
   "id": "c8265dce-d93e-4098-b82a-24623c3d103c",
   "metadata": {},
   "outputs": [
    {
     "name": "stdout",
     "output_type": "stream",
     "text": [
      "Booking Status\n",
      "Table 3 is already booked.\n"
     ]
    }
   ],
   "source": [
    "#Task 2: For your second task, Little Lemon need you to create a stored procedure called CheckBooking to check whether a table in the restaurant is\n",
    "#already booked. Creating this procedure helps to minimize the effort involved in repeatedly coding the same SQL statements.\n",
    "\n",
    "#The procedure should have two input parameters in the form of booking date and table number. You can also create a variable \n",
    "#in the procedure to check the status of each table.\n",
    "removeprocedure = \"\"\"\n",
    "    DROP PROCEDURE IF EXISTS CheckBooking;\n",
    "\"\"\"\n",
    "#cursor.execute(removeprocedure)\n",
    "\n",
    "#Create stored procedure\n",
    "spstmt = \"\"\"\n",
    "CREATE PROCEDURE IF NOT EXISTS CheckBooking(IN checkdate date, IN checktable INT)\n",
    "BEGIN\n",
    "DECLARE count INT;\n",
    "SELECT COUNT(BookingID) INTO count\n",
    "FROM Bookings\n",
    "WHERE BookingDate = checkdate AND TableNo = checktable;\n",
    "\n",
    "IF count = 0 THEN\n",
    "    SELECT CONCAT('Table ', checktable, ' is available.')  AS message;\n",
    "ELSE\n",
    "    SELECT CONCAT('Table ', checktable, ' is already booked.')  AS message;\n",
    "END IF;\n",
    "END\n",
    "\n",
    "\"\"\"\n",
    "\n",
    "cursor.execute(spstmt)\n",
    "\n",
    "# caling the procedure\n",
    "cursor.callproc('CheckBooking', ('2022-11-12', 3) )\n",
    "\n",
    "# Print the output value\n",
    "for result in cursor.stored_results():\n",
    "    print(\"Booking Status\")\n",
    "    print(result.fetchall()[0][0])\n",
    "\n",
    "\n"
   ]
  },
  {
   "cell_type": "code",
   "execution_count": 95,
   "id": "151b3e4e-abff-40fe-8be9-ba1a1b72cdd0",
   "metadata": {},
   "outputs": [
    {
     "name": "stdout",
     "output_type": "stream",
     "text": [
      "Booking Status\n",
      "Table 3 is available and has been booked.\n"
     ]
    }
   ],
   "source": [
    "#Task 3: For your third and final task, Little Lemon need to verify a booking, and decline any reservations for tables that are already booked\n",
    "#under another name. \n",
    "\n",
    "#Since integrity is not optional, Little Lemon need to ensure that every booking attempt includes these verification and decline steps. \n",
    "#However, implementing these steps requires a stored procedure and a transaction. \n",
    "\n",
    "#To implement these steps, you need to create a new procedure called AddValidBooking. This procedure must use a transaction statement to perform \n",
    "#a rollback if a customer reserves a table that’s already booked under another name.  \n",
    "\n",
    "removeprocedure = \"\"\"\n",
    "    DROP PROCEDURE IF EXISTS AddValidBooking;\n",
    "\"\"\"\n",
    "cursor.execute(removeprocedure)\n",
    "\n",
    "#Create stored procedure\n",
    "spstmt = \"\"\"\n",
    "CREATE PROCEDURE IF NOT EXISTS AddValidBooking(IN checkdate date, IN checktable INT)\n",
    "BEGIN\n",
    "DECLARE count INT;\n",
    "DECLARE maxBookingID INT; \n",
    "\n",
    "START TRANSACTION;\n",
    "\n",
    "SELECT BookingID INTO maxBookingID FROM Bookings ORDER BY BookingID DESC LIMIT 1;\n",
    "\n",
    "SELECT COUNT(BookingID) INTO count\n",
    "FROM Bookings\n",
    "WHERE BookingDate = checkdate AND TableNo = checktable;\n",
    "\n",
    "IF count = 0 THEN\n",
    "    INSERT INTO `littlelemondb`.`bookings` (`BookingID`, `BookingDate`, `TableNo`, `OrderID`, `CustomerID`, `StaffID`, `BookingSlot`) VALUES\n",
    "    (MaxBookingID+1, checkdate, checktable, 1, 1, 1, '19:00:00');\n",
    "    SELECT CONCAT('Table ', checktable, ' is available and has been booked.')  AS message;\n",
    "    COMMIT;\n",
    "ELSE\n",
    "    \n",
    "    SELECT CONCAT('Table ', checktable, ' is already booked - booking canceled.')  AS message;\n",
    "    ROLLBACK;\n",
    "END IF;\n",
    "END\n",
    "\n",
    "\"\"\"\n",
    "\n",
    "cursor.execute(spstmt)\n",
    "\n",
    "# caling the procedure\n",
    "#cursor.callproc('AddValidBooking', ('2022-11-14', 3) )  #Booking fails\n",
    "cursor.callproc('AddValidBooking', ('2023-11-14', 3) )  #Booking added\n",
    "\n",
    "# Print the output value\n",
    "for result in cursor.stored_results():\n",
    "    print(\"Booking Status\")\n",
    "    print(result.fetchall()[0][0])\n",
    "\n"
   ]
  },
  {
   "cell_type": "code",
   "execution_count": 101,
   "id": "0a518a01-cefa-4b3a-b3ba-bc1a14e177d1",
   "metadata": {},
   "outputs": [
    {
     "name": "stdout",
     "output_type": "stream",
     "text": [
      "(2, datetime.date(2022, 11, 12), 3, 3)\n",
      "(22, datetime.date(2022, 11, 14), 3, 1)\n",
      "(23, datetime.date(2023, 11, 14), 3, 1)\n"
     ]
    }
   ],
   "source": [
    "#Verifiy insert happens for table 3\n",
    "sqlstmt= \"\"\"\n",
    "SELECT BookingID, BookingDate, TableNo, CustomerID FROM Bookings WHERE TableNo = 3;\n",
    "\"\"\"\n",
    "cursor.execute(sqlstmt)\n",
    "results = cursor.fetchall()\n",
    "for result in results:\n",
    "    print(result)"
   ]
  },
  {
   "cell_type": "code",
   "execution_count": 115,
   "id": "c73aa556-5a9c-4e22-8785-fc5ab819575e",
   "metadata": {},
   "outputs": [
    {
     "name": "stdout",
     "output_type": "stream",
     "text": [
      "Confirmation\n",
      "New booking added.\n"
     ]
    }
   ],
   "source": [
    "# Create SQL queries to add and update bookings\n",
    "#Task 1: In this first task you need to create a new procedure called AddBooking to add a new table booking record.\n",
    "\n",
    "#The procedure should include four input parameters in the form of the following bookings parameters: \n",
    "#booking id, customer id, booking date, and table number.\n",
    "\n",
    "removeprocedure = \"\"\"\n",
    "    DROP PROCEDURE IF EXISTS AddBooking;\n",
    "\"\"\"\n",
    "#cursor.execute(removeprocedure)\n",
    "\n",
    "#Create stored procedure\n",
    "spstmt = \"\"\"\n",
    "CREATE PROCEDURE IF NOT EXISTS AddBooking(IN newBookingID INT, IN newCustomerID INT, IN newBookingdate date, IN newtable INT)\n",
    "BEGIN\n",
    "DECLARE count INT;\n",
    "\n",
    "SELECT COUNT(BookingID) INTO count\n",
    "FROM Bookings\n",
    "WHERE BookingID = newBookingID AND CustomerID = newCustomerID AND BookingDate = newBookingdate AND TableNo = newtable;\n",
    "\n",
    "IF count = 0 THEN\n",
    "    INSERT INTO `littlelemondb`.`bookings` (`BookingID`, `BookingDate`, `TableNo`, `OrderID`, `CustomerID`, `StaffID`, `BookingSlot`) VALUES\n",
    "    (newBookingID , newBookingdate, newtable, 1, newCustomerID, 1, '19:00:00');\n",
    "    SELECT CONCAT('New booking added.')  AS message;\n",
    "    COMMIT;\n",
    "ELSE\n",
    "    \n",
    "    SELECT CONCAT('Table ', newtable, ' is already booked - booking canceled.')  AS message;\n",
    "    ROLLBACK;\n",
    "END IF;\n",
    "END\n",
    "\n",
    "\"\"\"\n",
    "\n",
    "cursor.execute(spstmt)\n",
    "\n",
    "# caling the procedure\n",
    "cursor.callproc('AddBooking', (21, 4,'2022-12-30', 3) )\n",
    "\n",
    "# Print the output value\n",
    "for result in cursor.stored_results():\n",
    "    print(\"Confirmation\")\n",
    "    print(result.fetchall()[0][0])\n"
   ]
  },
  {
   "cell_type": "code",
   "execution_count": 119,
   "id": "87148e91-f1bd-4f46-8119-dcfb86d0284c",
   "metadata": {},
   "outputs": [
    {
     "name": "stdout",
     "output_type": "stream",
     "text": [
      "('BookingID', 'BookingDate', 'TableNo', 'BookingSlot', 'CustomerID', 'StaffID', 'OrderID')\n",
      "(21, datetime.date(2022, 12, 30), 3, datetime.timedelta(seconds=68400), 4, 1, 1)\n"
     ]
    }
   ],
   "source": [
    "#Verify Confirmation\n",
    "stmt = \"\"\"SELECT * FROM Bookings WHERE BookingID=21;\"\"\"\n",
    "\n",
    "cursor.execute(stmt)\n",
    "cols = cursor.column_names\n",
    "print(cols)\n",
    "results = cursor.fetchall()\n",
    "for result in results:\n",
    "    print(result)"
   ]
  },
  {
   "cell_type": "code",
   "execution_count": 137,
   "id": "484b881c-d370-4169-a005-0d0e50fd1e47",
   "metadata": {},
   "outputs": [
    {
     "name": "stdout",
     "output_type": "stream",
     "text": [
      "Confirmation\n",
      "Booking 21 updated.\n"
     ]
    }
   ],
   "source": [
    "#Task 2: For your second task, Little Lemon need you to create a new procedure called UpdateBooking that they can use to update \n",
    "#existing bookings in the booking table.\n",
    "\n",
    "#The procedure should have two input parameters in the form of booking id and booking date. You must also include an UPDATE statement \n",
    "#inside the procedure. \n",
    "\n",
    "removeprocedure = \"\"\"\n",
    "    DROP PROCEDURE IF EXISTS UpdateBooking;\n",
    "\"\"\"\n",
    "cursor.execute(removeprocedure)\n",
    "\n",
    "#Create stored procedure\n",
    "spstmt = \"\"\"\n",
    "CREATE PROCEDURE IF NOT EXISTS UpdateBooking(IN newBookingID INT, IN newBookingdate date)\n",
    "BEGIN\n",
    "DECLARE count INT;\n",
    "\n",
    "SELECT COUNT(BookingID) INTO count\n",
    "FROM Bookings\n",
    "WHERE BookingID  = newBookingID;\n",
    "\n",
    "IF count = 0 THEN\n",
    "    SELECT CONCAT('Original booking does not exist.')  AS message;\n",
    "ELSE\n",
    "    UPDATE Bookings\n",
    "    SET BookingDate = newBookingdate\n",
    "    WHERE BookingID = newBookingID;\n",
    "    SELECT CONCAT('Booking ', newBookingID, ' updated.')  AS message;\n",
    "    \n",
    "END IF;\n",
    "END\n",
    "\n",
    "\"\"\"\n",
    "\n",
    "cursor.execute(spstmt)\n",
    "\n",
    "# caling the procedure\n",
    "cursor.callproc('UpdateBooking', (21,'2022-12-31') )\n",
    "\n",
    "# Print the output value\n",
    "for result in cursor.stored_results():\n",
    "    print(\"Confirmation\")\n",
    "    print(result.fetchall()[0][0])\n"
   ]
  },
  {
   "cell_type": "code",
   "execution_count": 139,
   "id": "837e510e-6dc0-47b2-99f7-f42f03074958",
   "metadata": {},
   "outputs": [
    {
     "name": "stdout",
     "output_type": "stream",
     "text": [
      "('BookingID', 'BookingDate', 'TableNo', 'BookingSlot', 'CustomerID', 'StaffID', 'OrderID')\n",
      "(21, datetime.date(2022, 12, 31), 3, datetime.timedelta(seconds=68400), 4, 1, 1)\n"
     ]
    }
   ],
   "source": [
    "#Verify Confirmation\n",
    "stmt = \"\"\"SELECT * FROM Bookings WHERE BookingID=21;\"\"\"\n",
    "\n",
    "cursor.execute(stmt)\n",
    "cols = cursor.column_names\n",
    "print(cols)\n",
    "results = cursor.fetchall()\n",
    "for result in results:\n",
    "    print(result)"
   ]
  },
  {
   "cell_type": "code",
   "execution_count": 147,
   "id": "2b33925e-568f-426b-b594-9f46aede7fc5",
   "metadata": {},
   "outputs": [
    {
     "name": "stdout",
     "output_type": "stream",
     "text": [
      "Confirmation\n",
      "Booking 21 cancelled.\n"
     ]
    }
   ],
   "source": [
    "#Task 3: For the third and final task, Little Lemon need you to create a new procedure called CancelBooking \n",
    "#that they can use to cancel or remove a booking.\n",
    "\n",
    "#The procedure should have one input parameter in the form of booking id. You must also write a DELETE statement inside the procedure. \n",
    "\n",
    "removeprocedure = \"\"\"\n",
    "    DROP PROCEDURE IF EXISTS CancelBooking;\n",
    "\"\"\"\n",
    "cursor.execute(removeprocedure)\n",
    "\n",
    "#Create stored procedure\n",
    "spstmt = \"\"\"\n",
    "CREATE PROCEDURE IF NOT EXISTS CancelBooking(IN newBookingID INT)\n",
    "BEGIN\n",
    "DECLARE count INT;\n",
    "\n",
    "SELECT COUNT(BookingID) INTO count\n",
    "FROM Bookings\n",
    "WHERE BookingID  = newBookingID;\n",
    "\n",
    "IF count = 0 THEN\n",
    "    SELECT CONCAT('Original booking does not exist.')  AS message;\n",
    "ELSE\n",
    "    DELETE FROM Bookings\n",
    "    WHERE BookingID = newBookingID;\n",
    "    SELECT CONCAT('Booking ', newBookingID, ' cancelled.')  AS message;\n",
    "    \n",
    "END IF;\n",
    "END\n",
    "\n",
    "\"\"\"\n",
    "\n",
    "cursor.execute(spstmt)\n",
    "\n",
    "# caling the procedure\n",
    "cursor.callproc('CancelBooking', (21,) )\n",
    "\n",
    "# Print the output value\n",
    "for result in cursor.stored_results():\n",
    "    print(\"Confirmation\")\n",
    "    print(result.fetchall()[0][0])"
   ]
  },
  {
   "cell_type": "code",
   "execution_count": 149,
   "id": "375b071b-734c-4fa9-bdde-ad83df69abfb",
   "metadata": {},
   "outputs": [
    {
     "name": "stdout",
     "output_type": "stream",
     "text": [
      "('BookingID', 'BookingDate', 'TableNo', 'BookingSlot', 'CustomerID', 'StaffID', 'OrderID')\n"
     ]
    }
   ],
   "source": [
    "#Verify Confirmation\n",
    "stmt = \"\"\"SELECT * FROM Bookings WHERE BookingID=21;\"\"\"\n",
    "\n",
    "cursor.execute(stmt)\n",
    "cols = cursor.column_names\n",
    "print(cols)\n",
    "results = cursor.fetchall()\n",
    "for result in results:\n",
    "    print(result)"
   ]
  },
  {
   "cell_type": "code",
   "execution_count": null,
   "id": "14a27f61-5a3f-456c-85a6-d7f4910ef6c7",
   "metadata": {},
   "outputs": [],
   "source": []
  }
 ],
 "metadata": {
  "kernelspec": {
   "display_name": "Python 3 (ipykernel)",
   "language": "python",
   "name": "python3"
  },
  "language_info": {
   "codemirror_mode": {
    "name": "ipython",
    "version": 3
   },
   "file_extension": ".py",
   "mimetype": "text/x-python",
   "name": "python",
   "nbconvert_exporter": "python",
   "pygments_lexer": "ipython3",
   "version": "3.10.15"
  }
 },
 "nbformat": 4,
 "nbformat_minor": 5
}
